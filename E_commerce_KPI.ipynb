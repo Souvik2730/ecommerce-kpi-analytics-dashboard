{
 "cells": [
  {
   "cell_type": "markdown",
   "id": "90b36a5b",
   "metadata": {},
   "source": [
    "# This is a data cleaning part of the project E‑commerce KPI Analytics\n",
    "\n",
    "The data was cleaned using Python. Numeric columns such as unit price, cost price, discount %, tax, and shipping fee were rounded to two decimal places before analysis."
   ]
  },
  {
   "cell_type": "code",
   "execution_count": null,
   "id": "16e3d5f9",
   "metadata": {},
   "outputs": [],
   "source": [
    "import pandas as pd\n",
    "\n",
    "# Load your data\n",
    "order_items_df = pd.read_csv(\"D:/Captures/E_Commerce KPI Analytics/order_items_india.csv\")\n",
    "products_df = pd.read_csv(\"D:/Captures/E_Commerce KPI Analytics/products_india.csv\")\n",
    "\n",
    "# Format numeric columns in order_items_india.csv\n",
    "order_items_df['unit_price'] = order_items_df['unit_price'].round(2)\n",
    "order_items_df['cost_price'] = order_items_df['cost_price'].round(2)\n",
    "order_items_df['discount_pct'] = order_items_df['discount_pct'].round(2)\n",
    "order_items_df['tax_amount'] = order_items_df['tax_amount'].round(2)\n",
    "order_items_df['shipping_fee'] = order_items_df['shipping_fee'].round(2)\n",
    "\n",
    "# Format numeric columns in products_india.csv\n",
    "products_df['unit_price'] = products_df['unit_price'].round(2)\n",
    "products_df['cost_price'] = products_df['cost_price'].round(2)\n",
    "\n",
    "# Overwrite the same CSV files\n",
    "order_items_df.to_csv(\"D:/Captures/E_Commerce KPI Analytics/order_items_india.csv\", index=False)\n",
    "products_df.to_csv(\"D:/Captures/E_Commerce KPI Analytics/products_india.csv\", index=False)\n"
   ]
  }
 ],
 "metadata": {
  "kernelspec": {
   "display_name": "Python 3",
   "language": "python",
   "name": "python3"
  },
  "language_info": {
   "codemirror_mode": {
    "name": "ipython",
    "version": 3
   },
   "file_extension": ".py",
   "mimetype": "text/x-python",
   "name": "python",
   "nbconvert_exporter": "python",
   "pygments_lexer": "ipython3",
   "version": "3.12.4"
  }
 },
 "nbformat": 4,
 "nbformat_minor": 5
}
